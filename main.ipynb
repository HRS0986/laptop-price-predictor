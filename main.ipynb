{
 "cells": [
  {
   "cell_type": "code",
   "execution_count": 170,
   "id": "initial_id",
   "metadata": {
    "collapsed": true,
    "ExecuteTime": {
     "end_time": "2024-02-09T10:00:38.366454600Z",
     "start_time": "2024-02-09T10:00:38.308270200Z"
    }
   },
   "outputs": [],
   "source": [
    "import pandas as pd\n",
    "import numpy as np"
   ]
  },
  {
   "cell_type": "code",
   "outputs": [
    {
     "data": {
      "text/plain": "   laptop_ID Company      Product   TypeName  Inches  \\\n0          1   Apple  MacBook Pro  Ultrabook    13.3   \n1          2   Apple  Macbook Air  Ultrabook    13.3   \n2          3      HP       250 G6   Notebook    15.6   \n3          4   Apple  MacBook Pro  Ultrabook    15.4   \n4          5   Apple  MacBook Pro  Ultrabook    13.3   \n\n                     ScreenResolution                         Cpu   Ram  \\\n0  IPS Panel Retina Display 2560x1600        Intel Core i5 2.3GHz   8GB   \n1                            1440x900        Intel Core i5 1.8GHz   8GB   \n2                   Full HD 1920x1080  Intel Core i5 7200U 2.5GHz   8GB   \n3  IPS Panel Retina Display 2880x1800        Intel Core i7 2.7GHz  16GB   \n4  IPS Panel Retina Display 2560x1600        Intel Core i5 3.1GHz   8GB   \n\n                            Gpu  OpSys  Weight  Price_euros  \n0  Intel Iris Plus Graphics 640  macOS  1.37kg      1339.69  \n1        Intel HD Graphics 6000  macOS  1.34kg       898.94  \n2         Intel HD Graphics 620  No OS  1.86kg       575.00  \n3            AMD Radeon Pro 455  macOS  1.83kg      2537.45  \n4  Intel Iris Plus Graphics 650  macOS  1.37kg      1803.60  ",
      "text/html": "<div>\n<style scoped>\n    .dataframe tbody tr th:only-of-type {\n        vertical-align: middle;\n    }\n\n    .dataframe tbody tr th {\n        vertical-align: top;\n    }\n\n    .dataframe thead th {\n        text-align: right;\n    }\n</style>\n<table border=\"1\" class=\"dataframe\">\n  <thead>\n    <tr style=\"text-align: right;\">\n      <th></th>\n      <th>laptop_ID</th>\n      <th>Company</th>\n      <th>Product</th>\n      <th>TypeName</th>\n      <th>Inches</th>\n      <th>ScreenResolution</th>\n      <th>Cpu</th>\n      <th>Ram</th>\n      <th>Gpu</th>\n      <th>OpSys</th>\n      <th>Weight</th>\n      <th>Price_euros</th>\n    </tr>\n  </thead>\n  <tbody>\n    <tr>\n      <th>0</th>\n      <td>1</td>\n      <td>Apple</td>\n      <td>MacBook Pro</td>\n      <td>Ultrabook</td>\n      <td>13.3</td>\n      <td>IPS Panel Retina Display 2560x1600</td>\n      <td>Intel Core i5 2.3GHz</td>\n      <td>8GB</td>\n      <td>Intel Iris Plus Graphics 640</td>\n      <td>macOS</td>\n      <td>1.37kg</td>\n      <td>1339.69</td>\n    </tr>\n    <tr>\n      <th>1</th>\n      <td>2</td>\n      <td>Apple</td>\n      <td>Macbook Air</td>\n      <td>Ultrabook</td>\n      <td>13.3</td>\n      <td>1440x900</td>\n      <td>Intel Core i5 1.8GHz</td>\n      <td>8GB</td>\n      <td>Intel HD Graphics 6000</td>\n      <td>macOS</td>\n      <td>1.34kg</td>\n      <td>898.94</td>\n    </tr>\n    <tr>\n      <th>2</th>\n      <td>3</td>\n      <td>HP</td>\n      <td>250 G6</td>\n      <td>Notebook</td>\n      <td>15.6</td>\n      <td>Full HD 1920x1080</td>\n      <td>Intel Core i5 7200U 2.5GHz</td>\n      <td>8GB</td>\n      <td>Intel HD Graphics 620</td>\n      <td>No OS</td>\n      <td>1.86kg</td>\n      <td>575.00</td>\n    </tr>\n    <tr>\n      <th>3</th>\n      <td>4</td>\n      <td>Apple</td>\n      <td>MacBook Pro</td>\n      <td>Ultrabook</td>\n      <td>15.4</td>\n      <td>IPS Panel Retina Display 2880x1800</td>\n      <td>Intel Core i7 2.7GHz</td>\n      <td>16GB</td>\n      <td>AMD Radeon Pro 455</td>\n      <td>macOS</td>\n      <td>1.83kg</td>\n      <td>2537.45</td>\n    </tr>\n    <tr>\n      <th>4</th>\n      <td>5</td>\n      <td>Apple</td>\n      <td>MacBook Pro</td>\n      <td>Ultrabook</td>\n      <td>13.3</td>\n      <td>IPS Panel Retina Display 2560x1600</td>\n      <td>Intel Core i5 3.1GHz</td>\n      <td>8GB</td>\n      <td>Intel Iris Plus Graphics 650</td>\n      <td>macOS</td>\n      <td>1.37kg</td>\n      <td>1803.60</td>\n    </tr>\n  </tbody>\n</table>\n</div>"
     },
     "execution_count": 171,
     "metadata": {},
     "output_type": "execute_result"
    }
   ],
   "source": [
    "df = pd.read_csv(\"./laptop_price.csv\", encoding=\"latin-1\")\n",
    "df.head()"
   ],
   "metadata": {
    "collapsed": false,
    "ExecuteTime": {
     "end_time": "2024-02-09T10:00:38.690534400Z",
     "start_time": "2024-02-09T10:00:38.373452600Z"
    }
   },
   "id": "e021007757f24815",
   "execution_count": 171
  },
  {
   "cell_type": "code",
   "outputs": [
    {
     "data": {
      "text/plain": "(1303, 12)"
     },
     "execution_count": 172,
     "metadata": {},
     "output_type": "execute_result"
    }
   ],
   "source": [
    "df.shape"
   ],
   "metadata": {
    "collapsed": false,
    "ExecuteTime": {
     "end_time": "2024-02-09T10:00:38.716467400Z",
     "start_time": "2024-02-09T10:00:38.589119500Z"
    }
   },
   "id": "47a388a483224df7",
   "execution_count": 172
  },
  {
   "cell_type": "code",
   "outputs": [
    {
     "data": {
      "text/plain": "laptop_ID           0\nCompany             0\nProduct             0\nTypeName            0\nInches              0\nScreenResolution    0\nCpu                 0\nRam                 0\nGpu                 0\nOpSys               0\nWeight              0\nPrice_euros         0\ndtype: int64"
     },
     "execution_count": 173,
     "metadata": {},
     "output_type": "execute_result"
    }
   ],
   "source": [
    "df.isnull().sum()"
   ],
   "metadata": {
    "collapsed": false,
    "ExecuteTime": {
     "end_time": "2024-02-09T10:00:38.842066700Z",
     "start_time": "2024-02-09T10:00:38.702505500Z"
    }
   },
   "id": "697b4391a4b61ffd",
   "execution_count": 173
  },
  {
   "cell_type": "code",
   "outputs": [
    {
     "name": "stdout",
     "output_type": "stream",
     "text": [
      "<class 'pandas.core.frame.DataFrame'>\n",
      "RangeIndex: 1303 entries, 0 to 1302\n",
      "Data columns (total 12 columns):\n",
      " #   Column            Non-Null Count  Dtype  \n",
      "---  ------            --------------  -----  \n",
      " 0   laptop_ID         1303 non-null   int64  \n",
      " 1   Company           1303 non-null   object \n",
      " 2   Product           1303 non-null   object \n",
      " 3   TypeName          1303 non-null   object \n",
      " 4   Inches            1303 non-null   float64\n",
      " 5   ScreenResolution  1303 non-null   object \n",
      " 6   Cpu               1303 non-null   object \n",
      " 7   Ram               1303 non-null   object \n",
      " 8   Gpu               1303 non-null   object \n",
      " 9   OpSys             1303 non-null   object \n",
      " 10  Weight            1303 non-null   object \n",
      " 11  Price_euros       1303 non-null   float64\n",
      "dtypes: float64(2), int64(1), object(9)\n",
      "memory usage: 122.3+ KB\n"
     ]
    }
   ],
   "source": [
    "df.info()"
   ],
   "metadata": {
    "collapsed": false,
    "ExecuteTime": {
     "end_time": "2024-02-09T10:00:38.944945Z",
     "start_time": "2024-02-09T10:00:38.765585500Z"
    }
   },
   "id": "a9764abc1db12488",
   "execution_count": 174
  },
  {
   "cell_type": "code",
   "outputs": [],
   "source": [
    "df[\"Ram\"] = df[\"Ram\"].str.replace(\"GB\", \"\").astype('int32')\n",
    "df[\"Weight\"] = df[\"Weight\"].str.replace(\"kg\", \"\").astype('float32')"
   ],
   "metadata": {
    "collapsed": false,
    "ExecuteTime": {
     "end_time": "2024-02-09T10:00:39.052543700Z",
     "start_time": "2024-02-09T10:00:38.940957Z"
    }
   },
   "id": "2f3f26c23550b258",
   "execution_count": 175
  },
  {
   "cell_type": "code",
   "outputs": [
    {
     "data": {
      "text/plain": "laptop_ID      0.067830\nInches         0.068197\nRam            0.743007\nWeight         0.210370\nPrice_euros    1.000000\nName: Price_euros, dtype: float64"
     },
     "execution_count": 176,
     "metadata": {},
     "output_type": "execute_result"
    }
   ],
   "source": [
    "df.corr(numeric_only=True)[\"Price_euros\"]"
   ],
   "metadata": {
    "collapsed": false,
    "ExecuteTime": {
     "end_time": "2024-02-09T10:00:39.158082800Z",
     "start_time": "2024-02-09T10:00:39.054538400Z"
    }
   },
   "id": "fa3b4cb7abd4faf",
   "execution_count": 176
  },
  {
   "cell_type": "code",
   "outputs": [],
   "source": [
    "def change_company(name):\n",
    "    if name in (\"Samsung\", \"Razer\", \"Mediacom\", \"Microsoft\", \"Xiaomi\", \"Vero\", \"Chuwi\", \"Google\", \"Fujitsu\", \"LG\", \"Huawei\"):\n",
    "        return \"Other\"\n",
    "    return name\n",
    "df[\"Company\"] = df[\"Company\"].apply(change_company)"
   ],
   "metadata": {
    "collapsed": false,
    "ExecuteTime": {
     "end_time": "2024-02-09T10:00:39.162229400Z",
     "start_time": "2024-02-09T10:00:39.096257800Z"
    }
   },
   "id": "9bb41d6f0e63dbeb",
   "execution_count": 177
  },
  {
   "cell_type": "code",
   "outputs": [
    {
     "data": {
      "text/plain": "TypeName\nNotebook              727\nGaming                205\nUltrabook             196\n2 in 1 Convertible    121\nWorkstation            29\nNetbook                25\nName: count, dtype: int64"
     },
     "execution_count": 178,
     "metadata": {},
     "output_type": "execute_result"
    }
   ],
   "source": [
    "df[\"TypeName\"].value_counts()"
   ],
   "metadata": {
    "collapsed": false,
    "ExecuteTime": {
     "end_time": "2024-02-09T10:00:39.288423Z",
     "start_time": "2024-02-09T10:00:39.170230200Z"
    }
   },
   "id": "f7419f9587fe09b8",
   "execution_count": 178
  },
  {
   "cell_type": "code",
   "outputs": [],
   "source": [
    "df[\"Touch\"] = df[\"ScreenResolution\"].apply(lambda x: 1 if \"Touchscreen\" in x else 0)\n",
    "df[\"IPS\"] = df[\"ScreenResolution\"].apply(lambda x: 1 if \"IPS\" in x else 0)"
   ],
   "metadata": {
    "collapsed": false,
    "ExecuteTime": {
     "end_time": "2024-02-09T10:00:39.341363600Z",
     "start_time": "2024-02-09T10:00:39.207408300Z"
    }
   },
   "id": "7e0146adf4c98246",
   "execution_count": 179
  },
  {
   "cell_type": "code",
   "outputs": [
    {
     "data": {
      "text/plain": "   laptop_ID Company      Product   TypeName  Inches  \\\n0          1   Apple  MacBook Pro  Ultrabook    13.3   \n1          2   Apple  Macbook Air  Ultrabook    13.3   \n2          3      HP       250 G6   Notebook    15.6   \n3          4   Apple  MacBook Pro  Ultrabook    15.4   \n4          5   Apple  MacBook Pro  Ultrabook    13.3   \n\n                     ScreenResolution                         Cpu  Ram  \\\n0  IPS Panel Retina Display 2560x1600        Intel Core i5 2.3GHz    8   \n1                            1440x900        Intel Core i5 1.8GHz    8   \n2                   Full HD 1920x1080  Intel Core i5 7200U 2.5GHz    8   \n3  IPS Panel Retina Display 2880x1800        Intel Core i7 2.7GHz   16   \n4  IPS Panel Retina Display 2560x1600        Intel Core i5 3.1GHz    8   \n\n                            Gpu  OpSys  Weight  Price_euros  Touch  IPS  \n0  Intel Iris Plus Graphics 640  macOS    1.37      1339.69      0    1  \n1        Intel HD Graphics 6000  macOS    1.34       898.94      0    0  \n2         Intel HD Graphics 620  No OS    1.86       575.00      0    0  \n3            AMD Radeon Pro 455  macOS    1.83      2537.45      0    1  \n4  Intel Iris Plus Graphics 650  macOS    1.37      1803.60      0    1  ",
      "text/html": "<div>\n<style scoped>\n    .dataframe tbody tr th:only-of-type {\n        vertical-align: middle;\n    }\n\n    .dataframe tbody tr th {\n        vertical-align: top;\n    }\n\n    .dataframe thead th {\n        text-align: right;\n    }\n</style>\n<table border=\"1\" class=\"dataframe\">\n  <thead>\n    <tr style=\"text-align: right;\">\n      <th></th>\n      <th>laptop_ID</th>\n      <th>Company</th>\n      <th>Product</th>\n      <th>TypeName</th>\n      <th>Inches</th>\n      <th>ScreenResolution</th>\n      <th>Cpu</th>\n      <th>Ram</th>\n      <th>Gpu</th>\n      <th>OpSys</th>\n      <th>Weight</th>\n      <th>Price_euros</th>\n      <th>Touch</th>\n      <th>IPS</th>\n    </tr>\n  </thead>\n  <tbody>\n    <tr>\n      <th>0</th>\n      <td>1</td>\n      <td>Apple</td>\n      <td>MacBook Pro</td>\n      <td>Ultrabook</td>\n      <td>13.3</td>\n      <td>IPS Panel Retina Display 2560x1600</td>\n      <td>Intel Core i5 2.3GHz</td>\n      <td>8</td>\n      <td>Intel Iris Plus Graphics 640</td>\n      <td>macOS</td>\n      <td>1.37</td>\n      <td>1339.69</td>\n      <td>0</td>\n      <td>1</td>\n    </tr>\n    <tr>\n      <th>1</th>\n      <td>2</td>\n      <td>Apple</td>\n      <td>Macbook Air</td>\n      <td>Ultrabook</td>\n      <td>13.3</td>\n      <td>1440x900</td>\n      <td>Intel Core i5 1.8GHz</td>\n      <td>8</td>\n      <td>Intel HD Graphics 6000</td>\n      <td>macOS</td>\n      <td>1.34</td>\n      <td>898.94</td>\n      <td>0</td>\n      <td>0</td>\n    </tr>\n    <tr>\n      <th>2</th>\n      <td>3</td>\n      <td>HP</td>\n      <td>250 G6</td>\n      <td>Notebook</td>\n      <td>15.6</td>\n      <td>Full HD 1920x1080</td>\n      <td>Intel Core i5 7200U 2.5GHz</td>\n      <td>8</td>\n      <td>Intel HD Graphics 620</td>\n      <td>No OS</td>\n      <td>1.86</td>\n      <td>575.00</td>\n      <td>0</td>\n      <td>0</td>\n    </tr>\n    <tr>\n      <th>3</th>\n      <td>4</td>\n      <td>Apple</td>\n      <td>MacBook Pro</td>\n      <td>Ultrabook</td>\n      <td>15.4</td>\n      <td>IPS Panel Retina Display 2880x1800</td>\n      <td>Intel Core i7 2.7GHz</td>\n      <td>16</td>\n      <td>AMD Radeon Pro 455</td>\n      <td>macOS</td>\n      <td>1.83</td>\n      <td>2537.45</td>\n      <td>0</td>\n      <td>1</td>\n    </tr>\n    <tr>\n      <th>4</th>\n      <td>5</td>\n      <td>Apple</td>\n      <td>MacBook Pro</td>\n      <td>Ultrabook</td>\n      <td>13.3</td>\n      <td>IPS Panel Retina Display 2560x1600</td>\n      <td>Intel Core i5 3.1GHz</td>\n      <td>8</td>\n      <td>Intel Iris Plus Graphics 650</td>\n      <td>macOS</td>\n      <td>1.37</td>\n      <td>1803.60</td>\n      <td>0</td>\n      <td>1</td>\n    </tr>\n  </tbody>\n</table>\n</div>"
     },
     "execution_count": 180,
     "metadata": {},
     "output_type": "execute_result"
    }
   ],
   "source": [
    "df.head()"
   ],
   "metadata": {
    "collapsed": false,
    "ExecuteTime": {
     "end_time": "2024-02-09T10:00:39.438806800Z",
     "start_time": "2024-02-09T10:00:39.305004700Z"
    }
   },
   "id": "43bd3ba1718ee80a",
   "execution_count": 180
  },
  {
   "cell_type": "code",
   "outputs": [],
   "source": [
    "df[\"Cpu\"] = df[\"Cpu\"].apply(lambda x: \" \".join(x.split()[:3]))"
   ],
   "metadata": {
    "collapsed": false,
    "ExecuteTime": {
     "end_time": "2024-02-09T10:00:39.473716200Z",
     "start_time": "2024-02-09T10:00:39.404626300Z"
    }
   },
   "id": "e4ac4bf2abc2a861",
   "execution_count": 181
  },
  {
   "cell_type": "code",
   "outputs": [],
   "source": [
    "def change_cpu(name):\n",
    "    if \"Intel Core i\" in name:\n",
    "        return name\n",
    "    if name.split()[0] == \"AMD\":\n",
    "        return \"AMD\"\n",
    "    return \"Other\"\n",
    "df[\"Processor\"] = df[\"Cpu\"].apply(change_cpu)"
   ],
   "metadata": {
    "collapsed": false,
    "ExecuteTime": {
     "end_time": "2024-02-09T10:00:39.555563600Z",
     "start_time": "2024-02-09T10:00:39.452774500Z"
    }
   },
   "id": "4b2865b5f3d0985d",
   "execution_count": 182
  },
  {
   "cell_type": "code",
   "outputs": [
    {
     "data": {
      "text/plain": "Gpu\nIntel HD Graphics 620      281\nIntel HD Graphics 520      185\nIntel UHD Graphics 620      68\nNvidia GeForce GTX 1050     66\nNvidia GeForce GTX 1060     48\n                          ... \nAMD Radeon R5 520            1\nAMD Radeon R7                1\nIntel HD Graphics 540        1\nAMD Radeon 540               1\nARM Mali T860 MP4            1\nName: count, Length: 110, dtype: int64"
     },
     "execution_count": 183,
     "metadata": {},
     "output_type": "execute_result"
    }
   ],
   "source": [
    "df[\"Gpu\"].value_counts()"
   ],
   "metadata": {
    "collapsed": false,
    "ExecuteTime": {
     "end_time": "2024-02-09T10:00:39.601092300Z",
     "start_time": "2024-02-09T10:00:39.523649400Z"
    }
   },
   "id": "eaf8536daa6e3154",
   "execution_count": 183
  },
  {
   "cell_type": "code",
   "outputs": [],
   "source": [
    "def change_gpu(name):\n",
    "    if \"GTX\" in name:\n",
    "        return \"Nvidia GTX\"\n",
    "    if \"RTX\" in name:\n",
    "        return \"Nvidia RTX\"\n",
    "    if \"Nvidia\" in name:\n",
    "        return \"Nvidia\"\n",
    "    if \"AMD\" in name:\n",
    "        return \"AMD\"\n",
    "    if \"Intel\" in name:\n",
    "        return \"Intel\"\n",
    "    return name\n",
    "df[\"Gpu\"] = df[\"Gpu\"].apply(change_gpu)"
   ],
   "metadata": {
    "collapsed": false,
    "ExecuteTime": {
     "end_time": "2024-02-09T10:00:39.739231300Z",
     "start_time": "2024-02-09T10:00:39.574653200Z"
    }
   },
   "id": "c0d989bddd4b02e6",
   "execution_count": 184
  },
  {
   "cell_type": "code",
   "outputs": [
    {
     "data": {
      "text/plain": "Gpu\nIntel                722\nNvidia GTX           239\nAMD                  180\nNvidia               161\nARM Mali T860 MP4      1\nName: count, dtype: int64"
     },
     "execution_count": 185,
     "metadata": {},
     "output_type": "execute_result"
    }
   ],
   "source": [
    "df[\"Gpu\"].value_counts()"
   ],
   "metadata": {
    "collapsed": false,
    "ExecuteTime": {
     "end_time": "2024-02-09T10:00:39.845083100Z",
     "start_time": "2024-02-09T10:00:39.697814100Z"
    }
   },
   "id": "24178723d591e042",
   "execution_count": 185
  },
  {
   "cell_type": "code",
   "outputs": [],
   "source": [
    "df.rename(columns = {'Gpu':'GPU'}, inplace = True)\n",
    "df.rename(columns = {'OpSys':'OS'}, inplace = True)"
   ],
   "metadata": {
    "collapsed": false,
    "ExecuteTime": {
     "end_time": "2024-02-09T10:00:39.881696500Z",
     "start_time": "2024-02-09T10:00:39.800148Z"
    }
   },
   "id": "58c79fd8f0fe8608",
   "execution_count": 186
  },
  {
   "cell_type": "code",
   "outputs": [],
   "source": [
    "df = df[df[\"GPU\"] != \"ARM Mali T860 MP4\"]"
   ],
   "metadata": {
    "collapsed": false,
    "ExecuteTime": {
     "end_time": "2024-02-09T10:00:39.950772700Z",
     "start_time": "2024-02-09T10:00:39.857320900Z"
    }
   },
   "id": "5a5b5861510d0ad",
   "execution_count": 187
  },
  {
   "cell_type": "code",
   "outputs": [],
   "source": [
    "def change_os(name):\n",
    "    if \"Linux\" in name:\n",
    "        return \"Linux\"\n",
    "    if \"Windows\" in name:\n",
    "        return \"Windows\"\n",
    "    if \"mac\" in name.lower() :\n",
    "        return \"Mac\"\n",
    "    return \"Other\"\n",
    "df[\"OS\"] = df[\"OS\"].apply(change_os)"
   ],
   "metadata": {
    "collapsed": false,
    "ExecuteTime": {
     "end_time": "2024-02-09T10:00:39.959116500Z",
     "start_time": "2024-02-09T10:00:39.927465100Z"
    }
   },
   "id": "443b7fbcf17b391f",
   "execution_count": 188
  },
  {
   "cell_type": "code",
   "outputs": [],
   "source": [
    "df = df.drop(columns=[\"laptop_ID\", \"Inches\", \"ScreenResolution\", \"Cpu\", \"Product\"])"
   ],
   "metadata": {
    "collapsed": false,
    "ExecuteTime": {
     "end_time": "2024-02-09T10:00:40.033281900Z",
     "start_time": "2024-02-09T10:00:39.960117Z"
    }
   },
   "id": "1c9bd9deb25216ad",
   "execution_count": 189
  },
  {
   "cell_type": "code",
   "outputs": [
    {
     "data": {
      "text/plain": "  Company   TypeName  Ram    GPU     OS  Weight  Price_euros  Touch  IPS  \\\n0   Apple  Ultrabook    8  Intel    Mac    1.37      1339.69      0    1   \n1   Apple  Ultrabook    8  Intel    Mac    1.34       898.94      0    0   \n2      HP   Notebook    8  Intel  Other    1.86       575.00      0    0   \n3   Apple  Ultrabook   16    AMD    Mac    1.83      2537.45      0    1   \n4   Apple  Ultrabook    8  Intel    Mac    1.37      1803.60      0    1   \n\n       Processor  \n0  Intel Core i5  \n1  Intel Core i5  \n2  Intel Core i5  \n3  Intel Core i7  \n4  Intel Core i5  ",
      "text/html": "<div>\n<style scoped>\n    .dataframe tbody tr th:only-of-type {\n        vertical-align: middle;\n    }\n\n    .dataframe tbody tr th {\n        vertical-align: top;\n    }\n\n    .dataframe thead th {\n        text-align: right;\n    }\n</style>\n<table border=\"1\" class=\"dataframe\">\n  <thead>\n    <tr style=\"text-align: right;\">\n      <th></th>\n      <th>Company</th>\n      <th>TypeName</th>\n      <th>Ram</th>\n      <th>GPU</th>\n      <th>OS</th>\n      <th>Weight</th>\n      <th>Price_euros</th>\n      <th>Touch</th>\n      <th>IPS</th>\n      <th>Processor</th>\n    </tr>\n  </thead>\n  <tbody>\n    <tr>\n      <th>0</th>\n      <td>Apple</td>\n      <td>Ultrabook</td>\n      <td>8</td>\n      <td>Intel</td>\n      <td>Mac</td>\n      <td>1.37</td>\n      <td>1339.69</td>\n      <td>0</td>\n      <td>1</td>\n      <td>Intel Core i5</td>\n    </tr>\n    <tr>\n      <th>1</th>\n      <td>Apple</td>\n      <td>Ultrabook</td>\n      <td>8</td>\n      <td>Intel</td>\n      <td>Mac</td>\n      <td>1.34</td>\n      <td>898.94</td>\n      <td>0</td>\n      <td>0</td>\n      <td>Intel Core i5</td>\n    </tr>\n    <tr>\n      <th>2</th>\n      <td>HP</td>\n      <td>Notebook</td>\n      <td>8</td>\n      <td>Intel</td>\n      <td>Other</td>\n      <td>1.86</td>\n      <td>575.00</td>\n      <td>0</td>\n      <td>0</td>\n      <td>Intel Core i5</td>\n    </tr>\n    <tr>\n      <th>3</th>\n      <td>Apple</td>\n      <td>Ultrabook</td>\n      <td>16</td>\n      <td>AMD</td>\n      <td>Mac</td>\n      <td>1.83</td>\n      <td>2537.45</td>\n      <td>0</td>\n      <td>1</td>\n      <td>Intel Core i7</td>\n    </tr>\n    <tr>\n      <th>4</th>\n      <td>Apple</td>\n      <td>Ultrabook</td>\n      <td>8</td>\n      <td>Intel</td>\n      <td>Mac</td>\n      <td>1.37</td>\n      <td>1803.60</td>\n      <td>0</td>\n      <td>1</td>\n      <td>Intel Core i5</td>\n    </tr>\n  </tbody>\n</table>\n</div>"
     },
     "execution_count": 190,
     "metadata": {},
     "output_type": "execute_result"
    }
   ],
   "source": [
    "df.head()"
   ],
   "metadata": {
    "collapsed": false,
    "ExecuteTime": {
     "end_time": "2024-02-09T10:00:40.084005200Z",
     "start_time": "2024-02-09T10:00:40.007264800Z"
    }
   },
   "id": "a3a493787ace5829",
   "execution_count": 190
  },
  {
   "cell_type": "code",
   "outputs": [
    {
     "data": {
      "text/plain": "(1302, 10)"
     },
     "execution_count": 191,
     "metadata": {},
     "output_type": "execute_result"
    }
   ],
   "source": [
    "df.shape"
   ],
   "metadata": {
    "collapsed": false,
    "ExecuteTime": {
     "end_time": "2024-02-09T10:00:40.163538Z",
     "start_time": "2024-02-09T10:00:40.059214200Z"
    }
   },
   "id": "b71bd51c9d8a6e29",
   "execution_count": 191
  },
  {
   "cell_type": "code",
   "outputs": [],
   "source": [
    "df = pd.get_dummies(df)"
   ],
   "metadata": {
    "collapsed": false,
    "ExecuteTime": {
     "end_time": "2024-02-09T10:00:40.268313700Z",
     "start_time": "2024-02-09T10:00:40.133733Z"
    }
   },
   "id": "59425695a8cffe19",
   "execution_count": 192
  },
  {
   "cell_type": "code",
   "outputs": [
    {
     "data": {
      "text/plain": "   Ram  Weight  Price_euros  Touch  IPS  Company_Acer  Company_Apple  \\\n0    8    1.37      1339.69      0    1         False           True   \n1    8    1.34       898.94      0    0         False           True   \n2    8    1.86       575.00      0    0         False          False   \n3   16    1.83      2537.45      0    1         False           True   \n4    8    1.37      1803.60      0    1         False           True   \n\n   Company_Asus  Company_Dell  Company_HP  ...  GPU_Nvidia GTX  OS_Linux  \\\n0         False         False       False  ...           False     False   \n1         False         False       False  ...           False     False   \n2         False         False        True  ...           False     False   \n3         False         False       False  ...           False     False   \n4         False         False       False  ...           False     False   \n\n   OS_Mac  OS_Other  OS_Windows  Processor_AMD  Processor_Intel Core i3  \\\n0    True     False       False          False                    False   \n1    True     False       False          False                    False   \n2   False      True       False          False                    False   \n3    True     False       False          False                    False   \n4    True     False       False          False                    False   \n\n   Processor_Intel Core i5  Processor_Intel Core i7  Processor_Other  \n0                     True                    False            False  \n1                     True                    False            False  \n2                     True                    False            False  \n3                    False                     True            False  \n4                     True                    False            False  \n\n[5 rows x 33 columns]",
      "text/html": "<div>\n<style scoped>\n    .dataframe tbody tr th:only-of-type {\n        vertical-align: middle;\n    }\n\n    .dataframe tbody tr th {\n        vertical-align: top;\n    }\n\n    .dataframe thead th {\n        text-align: right;\n    }\n</style>\n<table border=\"1\" class=\"dataframe\">\n  <thead>\n    <tr style=\"text-align: right;\">\n      <th></th>\n      <th>Ram</th>\n      <th>Weight</th>\n      <th>Price_euros</th>\n      <th>Touch</th>\n      <th>IPS</th>\n      <th>Company_Acer</th>\n      <th>Company_Apple</th>\n      <th>Company_Asus</th>\n      <th>Company_Dell</th>\n      <th>Company_HP</th>\n      <th>...</th>\n      <th>GPU_Nvidia GTX</th>\n      <th>OS_Linux</th>\n      <th>OS_Mac</th>\n      <th>OS_Other</th>\n      <th>OS_Windows</th>\n      <th>Processor_AMD</th>\n      <th>Processor_Intel Core i3</th>\n      <th>Processor_Intel Core i5</th>\n      <th>Processor_Intel Core i7</th>\n      <th>Processor_Other</th>\n    </tr>\n  </thead>\n  <tbody>\n    <tr>\n      <th>0</th>\n      <td>8</td>\n      <td>1.37</td>\n      <td>1339.69</td>\n      <td>0</td>\n      <td>1</td>\n      <td>False</td>\n      <td>True</td>\n      <td>False</td>\n      <td>False</td>\n      <td>False</td>\n      <td>...</td>\n      <td>False</td>\n      <td>False</td>\n      <td>True</td>\n      <td>False</td>\n      <td>False</td>\n      <td>False</td>\n      <td>False</td>\n      <td>True</td>\n      <td>False</td>\n      <td>False</td>\n    </tr>\n    <tr>\n      <th>1</th>\n      <td>8</td>\n      <td>1.34</td>\n      <td>898.94</td>\n      <td>0</td>\n      <td>0</td>\n      <td>False</td>\n      <td>True</td>\n      <td>False</td>\n      <td>False</td>\n      <td>False</td>\n      <td>...</td>\n      <td>False</td>\n      <td>False</td>\n      <td>True</td>\n      <td>False</td>\n      <td>False</td>\n      <td>False</td>\n      <td>False</td>\n      <td>True</td>\n      <td>False</td>\n      <td>False</td>\n    </tr>\n    <tr>\n      <th>2</th>\n      <td>8</td>\n      <td>1.86</td>\n      <td>575.00</td>\n      <td>0</td>\n      <td>0</td>\n      <td>False</td>\n      <td>False</td>\n      <td>False</td>\n      <td>False</td>\n      <td>True</td>\n      <td>...</td>\n      <td>False</td>\n      <td>False</td>\n      <td>False</td>\n      <td>True</td>\n      <td>False</td>\n      <td>False</td>\n      <td>False</td>\n      <td>True</td>\n      <td>False</td>\n      <td>False</td>\n    </tr>\n    <tr>\n      <th>3</th>\n      <td>16</td>\n      <td>1.83</td>\n      <td>2537.45</td>\n      <td>0</td>\n      <td>1</td>\n      <td>False</td>\n      <td>True</td>\n      <td>False</td>\n      <td>False</td>\n      <td>False</td>\n      <td>...</td>\n      <td>False</td>\n      <td>False</td>\n      <td>True</td>\n      <td>False</td>\n      <td>False</td>\n      <td>False</td>\n      <td>False</td>\n      <td>False</td>\n      <td>True</td>\n      <td>False</td>\n    </tr>\n    <tr>\n      <th>4</th>\n      <td>8</td>\n      <td>1.37</td>\n      <td>1803.60</td>\n      <td>0</td>\n      <td>1</td>\n      <td>False</td>\n      <td>True</td>\n      <td>False</td>\n      <td>False</td>\n      <td>False</td>\n      <td>...</td>\n      <td>False</td>\n      <td>False</td>\n      <td>True</td>\n      <td>False</td>\n      <td>False</td>\n      <td>False</td>\n      <td>False</td>\n      <td>True</td>\n      <td>False</td>\n      <td>False</td>\n    </tr>\n  </tbody>\n</table>\n<p>5 rows × 33 columns</p>\n</div>"
     },
     "execution_count": 193,
     "metadata": {},
     "output_type": "execute_result"
    }
   ],
   "source": [
    "df.head()"
   ],
   "metadata": {
    "collapsed": false,
    "ExecuteTime": {
     "end_time": "2024-02-09T10:00:40.434456400Z",
     "start_time": "2024-02-09T10:00:40.236745900Z"
    }
   },
   "id": "7a00a0c370abe568",
   "execution_count": 193
  }
 ],
 "metadata": {
  "kernelspec": {
   "display_name": "Python 3",
   "language": "python",
   "name": "python3"
  },
  "language_info": {
   "codemirror_mode": {
    "name": "ipython",
    "version": 2
   },
   "file_extension": ".py",
   "mimetype": "text/x-python",
   "name": "python",
   "nbconvert_exporter": "python",
   "pygments_lexer": "ipython2",
   "version": "2.7.6"
  }
 },
 "nbformat": 4,
 "nbformat_minor": 5
}
